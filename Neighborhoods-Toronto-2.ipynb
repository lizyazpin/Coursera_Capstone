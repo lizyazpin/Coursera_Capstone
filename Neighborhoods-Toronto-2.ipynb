{
 "cells": [
  {
   "cell_type": "markdown",
   "metadata": {},
   "source": [
    "# Segmenting neighborhoods in Toronto\n",
    "\n"
   ]
  },
  {
   "cell_type": "markdown",
   "metadata": {},
   "source": [
    "Import needed dependencies.\n"
   ]
  },
  {
   "cell_type": "code",
   "execution_count": 1,
   "metadata": {},
   "outputs": [
    {
     "name": "stdout",
     "output_type": "stream",
     "text": [
      "Libraries imported.\n"
     ]
    }
   ],
   "source": [
    "#Web scrapping stage\n",
    "from bs4 import BeautifulSoup # this module helps in web scrapping.\n",
    "import requests  # this module helps us to download a web page\n",
    "\n",
    "import lxml\n",
    "import pandas as pd # library for data analsysis\n",
    "pd.set_option('display.max_columns', None)\n",
    "pd.set_option('display.max_rows', None)\n",
    "\n",
    "from geopy.geocoders import Nominatim # convert an address into latitude and longitude values\n",
    "\n",
    "print('Libraries imported.')"
   ]
  },
  {
   "cell_type": "markdown",
   "metadata": {},
   "source": [
    "<a id='item1'></a>\n"
   ]
  },
  {
   "cell_type": "markdown",
   "metadata": {},
   "source": [
    "## [1. Get Toronto's neighborhoods](#get_neighborhoods)"
   ]
  },
  {
   "cell_type": "markdown",
   "metadata": {},
   "source": [
    "The Wikipedia article containing Toronto's neighborhoods is: https://en.wikipedia.org/wiki/List_of_neighbourhoods_in_Toronto\n",
    "\n",
    "From there I need to get the names."
   ]
  },
  {
   "cell_type": "markdown",
   "metadata": {},
   "source": [
    "To download the contents of the webpage `url` in text format and store in a variable called `data` and create a `BeautifulSoup` object using the BeautifulSoup constructor:"
   ]
  },
  {
   "cell_type": "code",
   "execution_count": 2,
   "metadata": {
    "scrolled": true
   },
   "outputs": [],
   "source": [
    "url = 'https://en.wikipedia.org/wiki/List_of_neighbourhoods_in_Toronto'\n",
    "data  = requests.get(url).text \n",
    "soup = BeautifulSoup(data,\"html5lib\")  # create a soup object using the variable 'data'\n",
    "#soup"
   ]
  },
  {
   "cell_type": "markdown",
   "metadata": {},
   "source": [
    "**Explore the data**\n",
    "\n",
    "Table with district numbers."
   ]
  },
  {
   "cell_type": "code",
   "execution_count": 3,
   "metadata": {},
   "outputs": [],
   "source": [
    "table = soup.find_all(\"table\",{\"class\":\"wikitable sortable\"})\n",
    "table = table[1]\n",
    "#table"
   ]
  },
  {
   "cell_type": "markdown",
   "metadata": {},
   "source": [
    "Get table rows' attributes to a DataFrame:"
   ]
  },
  {
   "cell_type": "code",
   "execution_count": 4,
   "metadata": {},
   "outputs": [],
   "source": [
    "df = pd.read_html(str(table), flavor='html5lib')\n",
    "df = df[0]\n",
    "#df.head()"
   ]
  },
  {
   "cell_type": "code",
   "execution_count": 5,
   "metadata": {},
   "outputs": [],
   "source": [
    "# define the dataframe columns\n",
    "column_names = ['PostalCode', 'Borough', 'Neighborhood', 'Latitude', 'Longitude'] \n",
    "# instantiate the dataframe\n",
    "neighborhoods = pd.DataFrame(columns=column_names)"
   ]
  },
  {
   "cell_type": "code",
   "execution_count": 6,
   "metadata": {},
   "outputs": [],
   "source": [
    "def get_postcode(neighbourhood, borough):\n",
    "    address = str(neighbourhood)+\", \"+borough+',Toronto, Ontario, Canada'\n",
    "    geolocator = Nominatim(user_agent=\"to_explorer\")\n",
    "    location = geolocator.geocode(address)\n",
    "    #print(location)\n",
    "    if location != None:\n",
    "        postcode = str(location).split(',')[-2]\n",
    "        #print(postcode)\n",
    "        postcode = postcode.split(\" \")[1]\n",
    "        #print(postcode)\n",
    "        latitude = location.latitude\n",
    "        longitude = location.longitude\n",
    "        if postcode != \"Ontario\":\n",
    "            return [postcode,latitude,longitude]"
   ]
  },
  {
   "cell_type": "code",
   "execution_count": 7,
   "metadata": {},
   "outputs": [],
   "source": [
    "for row in df.values:\n",
    "    #print(row)\n",
    "    borough = str(row[2])\n",
    "    neighbourhood = str(row[1])\n",
    "    #rint(borough+\" \"+neighbourhood)\n",
    "    \n",
    "    #Get latitude and longitude\n",
    "    try:\n",
    "        [postcode,latitude,longitude] = get_postcode(neighbourhood, borough)\n",
    "        neighborhoods = neighborhoods.append({'PostalCode': postcode,\n",
    "                                            'Borough': borough,\n",
    "                                            'Neighborhood': neighbourhood,\n",
    "                                            'Latitude': latitude,\n",
    "                                            'Longitude': longitude}, ignore_index=True)\n",
    "    except:\n",
    "        continue"
   ]
  },
  {
   "cell_type": "code",
   "execution_count": 8,
   "metadata": {},
   "outputs": [
    {
     "data": {
      "text/html": [
       "<div>\n",
       "<style scoped>\n",
       "    .dataframe tbody tr th:only-of-type {\n",
       "        vertical-align: middle;\n",
       "    }\n",
       "\n",
       "    .dataframe tbody tr th {\n",
       "        vertical-align: top;\n",
       "    }\n",
       "\n",
       "    .dataframe thead th {\n",
       "        text-align: right;\n",
       "    }\n",
       "</style>\n",
       "<table border=\"1\" class=\"dataframe\">\n",
       "  <thead>\n",
       "    <tr style=\"text-align: right;\">\n",
       "      <th></th>\n",
       "      <th>PostalCode</th>\n",
       "      <th>Borough</th>\n",
       "      <th>Neighborhood</th>\n",
       "      <th>Latitude</th>\n",
       "      <th>Longitude</th>\n",
       "    </tr>\n",
       "  </thead>\n",
       "  <tbody>\n",
       "    <tr>\n",
       "      <th>0</th>\n",
       "      <td>M1V</td>\n",
       "      <td>Scarborough</td>\n",
       "      <td>Agincourt North</td>\n",
       "      <td>43.808038</td>\n",
       "      <td>-79.266439</td>\n",
       "    </tr>\n",
       "    <tr>\n",
       "      <th>1</th>\n",
       "      <td>M1S</td>\n",
       "      <td>Scarborough</td>\n",
       "      <td>Agincourt South-Malvern West</td>\n",
       "      <td>43.781969</td>\n",
       "      <td>-79.257689</td>\n",
       "    </tr>\n",
       "    <tr>\n",
       "      <th>2</th>\n",
       "      <td>M8W</td>\n",
       "      <td>Etobicoke</td>\n",
       "      <td>Alderwood</td>\n",
       "      <td>43.601717</td>\n",
       "      <td>-79.545232</td>\n",
       "    </tr>\n",
       "    <tr>\n",
       "      <th>3</th>\n",
       "      <td>M5T</td>\n",
       "      <td>Old City of Toronto</td>\n",
       "      <td>Annex</td>\n",
       "      <td>43.670338</td>\n",
       "      <td>-79.407117</td>\n",
       "    </tr>\n",
       "    <tr>\n",
       "      <th>4</th>\n",
       "      <td>M2L</td>\n",
       "      <td>North York</td>\n",
       "      <td>Banbury-Don Mills</td>\n",
       "      <td>43.752339</td>\n",
       "      <td>-79.365716</td>\n",
       "    </tr>\n",
       "    <tr>\n",
       "      <th>5</th>\n",
       "      <td>M5R</td>\n",
       "      <td>Old City of Toronto</td>\n",
       "      <td>Bay Street Corridor</td>\n",
       "      <td>43.672135</td>\n",
       "      <td>-79.390499</td>\n",
       "    </tr>\n",
       "    <tr>\n",
       "      <th>6</th>\n",
       "      <td>M2K</td>\n",
       "      <td>North York</td>\n",
       "      <td>Bayview Village</td>\n",
       "      <td>43.769197</td>\n",
       "      <td>-79.376662</td>\n",
       "    </tr>\n",
       "    <tr>\n",
       "      <th>7</th>\n",
       "      <td>M2M</td>\n",
       "      <td>North York</td>\n",
       "      <td>Bayview Woods-Steeles</td>\n",
       "      <td>43.798127</td>\n",
       "      <td>-79.382973</td>\n",
       "    </tr>\n",
       "    <tr>\n",
       "      <th>8</th>\n",
       "      <td>M1P</td>\n",
       "      <td>Scarborough</td>\n",
       "      <td>Bendale</td>\n",
       "      <td>43.753520</td>\n",
       "      <td>-79.255336</td>\n",
       "    </tr>\n",
       "    <tr>\n",
       "      <th>9</th>\n",
       "      <td>M6L</td>\n",
       "      <td>North York</td>\n",
       "      <td>Black Creek</td>\n",
       "      <td>43.695400</td>\n",
       "      <td>-79.485495</td>\n",
       "    </tr>\n",
       "    <tr>\n",
       "      <th>10</th>\n",
       "      <td>M4K</td>\n",
       "      <td>East York</td>\n",
       "      <td>Broadview North</td>\n",
       "      <td>43.683922</td>\n",
       "      <td>-79.356942</td>\n",
       "    </tr>\n",
       "    <tr>\n",
       "      <th>11</th>\n",
       "      <td>M5R</td>\n",
       "      <td>Old City of Toronto</td>\n",
       "      <td>Casa Loma</td>\n",
       "      <td>43.678101</td>\n",
       "      <td>-79.409416</td>\n",
       "    </tr>\n",
       "  </tbody>\n",
       "</table>\n",
       "</div>"
      ],
      "text/plain": [
       "   PostalCode              Borough                  Neighborhood   Latitude  \\\n",
       "0         M1V          Scarborough               Agincourt North  43.808038   \n",
       "1         M1S          Scarborough  Agincourt South-Malvern West  43.781969   \n",
       "2         M8W            Etobicoke                     Alderwood  43.601717   \n",
       "3         M5T  Old City of Toronto                         Annex  43.670338   \n",
       "4         M2L           North York             Banbury-Don Mills  43.752339   \n",
       "5         M5R  Old City of Toronto           Bay Street Corridor  43.672135   \n",
       "6         M2K           North York               Bayview Village  43.769197   \n",
       "7         M2M           North York         Bayview Woods-Steeles  43.798127   \n",
       "8         M1P          Scarborough                       Bendale  43.753520   \n",
       "9         M6L           North York                   Black Creek  43.695400   \n",
       "10        M4K            East York               Broadview North  43.683922   \n",
       "11        M5R  Old City of Toronto                     Casa Loma  43.678101   \n",
       "\n",
       "    Longitude  \n",
       "0  -79.266439  \n",
       "1  -79.257689  \n",
       "2  -79.545232  \n",
       "3  -79.407117  \n",
       "4  -79.365716  \n",
       "5  -79.390499  \n",
       "6  -79.376662  \n",
       "7  -79.382973  \n",
       "8  -79.255336  \n",
       "9  -79.485495  \n",
       "10 -79.356942  \n",
       "11 -79.409416  "
      ]
     },
     "execution_count": 8,
     "metadata": {},
     "output_type": "execute_result"
    }
   ],
   "source": [
    "neighborhoods.head(12)"
   ]
  }
 ],
 "metadata": {
  "kernelspec": {
   "display_name": "Python 3",
   "language": "python",
   "name": "python3"
  },
  "language_info": {
   "codemirror_mode": {
    "name": "ipython",
    "version": 3
   },
   "file_extension": ".py",
   "mimetype": "text/x-python",
   "name": "python",
   "nbconvert_exporter": "python",
   "pygments_lexer": "ipython3",
   "version": "3.6.3"
  },
  "widgets": {
   "state": {},
   "version": "1.1.2"
  }
 },
 "nbformat": 4,
 "nbformat_minor": 2
}
