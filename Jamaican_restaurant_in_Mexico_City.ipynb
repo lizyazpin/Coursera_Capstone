{
 "cells": [
  {
   "cell_type": "markdown",
   "metadata": {},
   "source": [
    "# Introduction\n",
    "\n",
    "Mexico City is an important cultural and financial center in the world. It had a GDP of $411 billion in 2011, which makes it one of the most productive urban areas in the world. The city was responsible for generating 15.8\\% of Mexico's GDP, and the metropolitan area accounted for about 22\\% of the country's GDP. This, makes it an ideal place for investment.\n",
    "\n",
    "Besides the economical factors, Mexico City is also a cultural and culinary center. It is for this reason that this City is a destination for many foreign tourists. From the Historic center of Mexico City (Centro Histórico) to the the \"floating gardens\" of Xochimilco in the southern borough (declared World Heritage Sites by UNESCO), it is a magnificent attraction. \n",
    "\n",
    "Mexico City was traditionally known as La Ciudad de los Palacios (\"the City of the Palaces\"), a nickname attributed to Baron Alexander von Humboldt when visiting the city in the 19th century, who, sending a letter back to Europe, said Mexico City could rival any major city in Europe. But it was English politician Charles Latrobe who really penned the following: \"... look at their works: the moles, aqueducts, churches, roads—and the luxurious City of Palaces which has risen from the clay-builts ruins of Tenochtitlan...\", on page 84 of the Letter V of The Rambler in Mexico.\n",
    "\n",
    "Mexico City has numerous museums dedicated to art, including Mexican colonial, modern and contemporary art, and international art. The Museo Tamayo was opened in the mid-1980s to house the collection of international contemporary art donated by famed Mexican (born in the state of Oaxaca) painter Rufino Tamayo. The collection includes pieces by Picasso, Klee, Kandinsky, Warhol and many others, though most of the collection is stored while visiting exhibits are shown. The Museo de Arte Moderno (Museum of Modern Art) is a repository of Mexican artists from the 20th century, including Rivera, Orozco, Siqueiros, Kahlo, Gerzso, Carrington, Tamayo, among others, and also regularly hosts temporary exhibits of international modern art. In southern Mexico City, the Museo Carrillo Gil (Carrillo Gil Museum) showcases avant-garde artists, as does the University Museum/Contemporary Art (Museo Universitario Arte Contemporáneo – or MUAC), designed by famed Mexican architect Teodoro González de León, inaugurated in late 2008.\n",
    "\n",
    "Another great attractions are the Chapultepec Park houses the Chapultepec Castle, now a museum on a hill that overlooks the park and its numerous museums, monuments and the national zoo and the National Museum of Anthropology (which houses the Aztec Calendar Stone). Another piece of architecture is the Palacio de Bellas Artes, a white marble theatre/museum whose weight is such that it has gradually been sinking into the soft ground below. The Plaza de las Tres Culturas, in this square are located the College of Santa Cruz de Tlatelolco, that is the first and oldest European school of higher learning in the Americas, and the archaeological site of the city-state of Tlatelolco.\n",
    "\n",
    "In the cusine, Mexico City offers a great variety. There are restaurants specializing in the regional cuisines of Mexico's 31 states are available in the city, and the city also has several branches of internationally recognized restaurants. These include Paris' Au Pied de Cochon and Brasserie Lipp, Philippe (by Philippe Chow); Nobu, Quintonil, Morimoto; Pámpano, owned by Mexican-raised opera singer Plácido Domingo. There are branches of Japanese restaurant Suntory, Italian restaurant Alfredo, as well as New York steakhouses Morton's and The Palm, and Monte Carlo's BeefBar. Three of Lima's Haute restaurants, serving Peruvian cuisine, have locations in Mexico City: La Mar, Segundo Muelle and Astrid y Gastón.\n",
    "\n",
    "It is also important to notice that by the 19th century tacos had become a standard of Mexico City's cuisine. Furthermore, as authorities struggled to tax local taquerias, imposing licensing requirements and penalties, they recorded some details of the types of foods being served by these establishments. The most frequent reference was for tacos de barbacoa. Also mentioned are enchiladas, tacos de minero and gorditas, along with oyster shops and fried fish stands. There is evidence of some regional specialties being made available for recent migrants; at least two shops were known to serve pozole, a type of stew similar to hominy that is a staple of Guadalajara, Jalisco. At the other end of the scale are working class pulque bars known as pulquerías, a challenge for tourists to locate and experience.\n",
    "\n",
    "Mexico City is also known for having some of the freshest fish and seafood in Mexico's interior. La Nueva Viga Market is the second largest seafood market in the world after the Tsukiji fish market in Japan. However, there are still some cusine styles missing in the vast repertory of flavours. One important example is the Jamaican cuisine. There is only one house restaurant available in the City, which opens once a week. To change this situation, it is proposed to look into data of restaurants in Mexico City, to find the best locations for a Jamaican restaurant."
   ]
  },
  {
   "cell_type": "markdown",
   "metadata": {},
   "source": [
    "# Business Problem\n",
    "\n",
    "As mentioned above, the idea is to find the ideal location for a Jamaican restaurant. For that, it is necesary to look into locations of current international and national restaurants, the facilities offered to open a new bussness (uso de suelo), the security of the area and income.\n",
    "\n",
    "Mexico City is divided into 16 boroughs, formerly called delegaciones. The boroughs are composed of hundreds of colonias or neighborhoods, which have no jurisdictional autonomy or representation. The Historic Center, in the borough of Cuauhtémoc, is the oldest part of the city (along with some other, formerly separate colonial towns such as Coyoacán and San Ángel), some of the buildings dating back to the 16th century. The buildings in this area can not be modified easily if required for a restaurant and rents are very high.\n",
    "\n",
    "Other well-known central neighborhoods include Condesa, known for its Art Deco architecture and its restaurant scene; Colonia Roma, a beaux arts neighborhood and artistic and culinary hot-spot, the Zona Rosa, formerly the center of nightlife and restaurants, now reborn as the center of the LGBT and Korean-Mexican communities; and Tepito and La Lagunilla, known for their local working-class folklore and large flea markets. Santa María la Ribera and San Rafael are the latest neighborhoods of magnificent Porfiriato architecture seeing the first signs of gentrification.\n",
    "\n",
    "West of the Historic Center (Centro Histórico) along Paseo de la Reforma are many of the city's wealthiest neighborhoods such as Polanco, Lomas de Chapultepec, Bosques de las Lomas, Santa Fe, and (in the State of Mexico) Interlomas, which are also the city's most important areas of class A office space, corporate headquarters, skyscrapers, and shopping malls. Nevertheless, some areas of lower-income colonias are right next to rich neighborhoods, particularly in the case of Santa Fe.\n",
    "\n",
    "## Income\n",
    "\n",
    "The south of the city is home to some other high-income neighborhoods such as Colonia del Valle and Jardines del Pedregal and the formerly separate colonial towns of Coyoacán, San Ángel, and San Jerónimo. Along Avenida Insurgentes from Paseo de la Reforma, near the center, south past the World Trade Center and UNAM university toward the Periférico ring road, is another important corridor of corporate office space. The far-southern boroughs of Xochimilco and Tláhuac have a significant rural population, with Milpa Alta being entirely rural.\n",
    "\n",
    "East of the center are mostly lower-income areas with some middle-class neighborhoods such as Jardín Balbuena. Urban sprawl continues further east for many miles into the State of Mexico, including Ciudad Nezahualcoyotl, now increasingly middle class but once full of informal settlements. Such slums are still found on the eastern edges of the metropolitan area in the Chalco area.\n",
    "\n",
    "North of the Historic Center, Azcapotzalco and Gustavo A. Madero have important industrial centers and neighborhoods that range from established middle-class colonias such as Claveria and Lindavista to huge low-income housing areas that share hillsides with adjacent municipalities in the State of Mexico. In recent years, much of northern Mexico City's industry has moved to nearby municipalities in the State of Mexico. Northwest of Mexico City itself is Ciudad Satélite, a vast middle-class to upper-middle-class residential and business area.\n",
    "\n",
    "The Human Development Index report of 2005 shows that there were three boroughs with a very high Human Development Index, 12 with a high HDI value (9 above .85), and one with a medium HDI value (almost high). Benito Juárez borough had the highest HDI of the country (0.9510) followed by Miguel Hidalgo, which came up fourth nationally with an HDI of (0.9189), and Coyoacán was fifth nationally, with an HDI of (0.9169). Cuajimalpa (15th), Cuauhtémoc (23rd), and Azcapotzalco (25th) also had very high values of 0.8994, 0.8922, and 0.8915, respectively.\n",
    "\n",
    "In contrast, the boroughs of Xochimilco (172nd), Tláhuac (177th), and Iztapalapa (183rd) presented the lowest HDI values of Mexico City, with values of 0.8481, 0.8473, and 0.8464, respectively, which are still in the global high-HDI range. The only borough that did not have a high HDI was that of rural Milpa Alta, which had a \"medium\" HDI of 0.7984, far below those of all the other boroughs (627th nationally, the rest being in the top 200). Mexico City's HDI for the 2005 report was 0.9012 (very high), and its 2010 value of 0.9225 (very high), or (by newer methodology) 0.8307, was Mexico's highest.\n",
    "\n",
    "## Security\n",
    "\n",
    "The Secretariat of Public Security of Mexico City (Secretaría de Seguridad Pública de la Ciudad de México – SSP) manages a combined force of over 90,000 officers in Mexico City. The SSP is charged with maintaining public order and safety in the heart of Mexico City. The historic district is also roamed by tourist police, aiming to orient and serve tourists. These horse-mounted agents dress in traditional uniforms.\n",
    "\n",
    "The investigative Judicial Police of Mexico City (Policía Judicial de la Ciudad de México – PJCDMX) is organized under the Office of the Attorney General of Mexico City (the Procuraduría General de Justicia de la Ciudad de México). The PGJCDMX maintains 16 precincts (delegaciones) with an estimated 3,500 judicial police, 1,100 investigating agents for prosecuting attorneys (agentes del ministerio público), and nearly 1,000 criminology experts or specialists (peritos).\n",
    "\n",
    "Between 2000 and 2004 an average of 478 crimes were reported each day in Mexico City; however, the actual crime rate is thought to be much higher \"since most people are reluctant to report crime\". Under policies enacted by Mayor Marcelo Ebrard between 2009 and 2011, Mexico City underwent a major security upgrade with violent and petty crime rates both falling significantly despite the rise in violent crime in other parts of the country. Some of the policies enacted included the installation of 11,000 security cameras around the city and a very large expansion of the police force. Mexico City has one of the world's highest police officer-to-resident ratios, with one uniformed officer per 100 citizens."
   ]
  },
  {
   "cell_type": "code",
   "execution_count": null,
   "metadata": {},
   "outputs": [],
   "source": []
  }
 ],
 "metadata": {
  "kernelspec": {
   "display_name": "Python 3",
   "language": "python",
   "name": "python3"
  },
  "language_info": {
   "codemirror_mode": {
    "name": "ipython",
    "version": 3
   },
   "file_extension": ".py",
   "mimetype": "text/x-python",
   "name": "python",
   "nbconvert_exporter": "python",
   "pygments_lexer": "ipython3",
   "version": "3.6.3"
  }
 },
 "nbformat": 4,
 "nbformat_minor": 4
}
